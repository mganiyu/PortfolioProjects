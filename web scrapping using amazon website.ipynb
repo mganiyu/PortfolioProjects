{
 "cells": [
  {
   "cell_type": "code",
   "execution_count": 2,
   "id": "d332bbbb",
   "metadata": {},
   "outputs": [],
   "source": [
    "from bs4 import BeautifulSoup\n",
    "import requests\n",
    "import time\n",
    "import datetime\n",
    "import pandas\n",
    "import csv"
   ]
  },
  {
   "cell_type": "code",
   "execution_count": 69,
   "id": "39f62d17",
   "metadata": {},
   "outputs": [
    {
     "name": "stdout",
     "output_type": "stream",
     "text": [
      "<div class=\"b-advert-title-inner qa-advert-title b-advert-title-inner--h1\">\n",
      "                    New Brabus Rocket 900 2021 Blue\n",
      "                   </div>\n",
      "<span class=\"qa-advert-price-view-title b-alt-advert-price__text\" content=\"348000000\" itemprop=\"price\">\n",
      "<span>\n",
      "<span content=\"NGN\" itemprop=\"priceCurrency\">\n",
      "                     ₦\n",
      "                    </span>\n",
      "                    348,000,000\n",
      "                   </span>\n",
      "<!-- -->\n",
      "</span>\n"
     ]
    }
   ],
   "source": [
    "#connect to website\n",
    "url = \"https://jiji.ng/ikoyi-obalende/cars/new-brabus-rocket-900-2021-blue-bi8UxsacVrGbZrWKUrJTEsoQ.html?page=1&pos=6&cur_pos=6&ads_per_page=20&ads_count=20&lid=r-bT_LNyEbkIqqH6Mb\"\n",
    "\n",
    "headers = {\"User-Agent\": \"Mozilla/5.0 (Windows NT 10.0; Win64; x64) AppleWebKit/537.36 (KHTML, like Gecko) Chrome/119.0.0.0 Safari/537.36\"}\n",
    "\n",
    "http_proxy = \"http://10.10.1.10:3128\"\n",
    "\n",
    "https_proxy = \"http://10.10.1.11:1080\"\n",
    "\n",
    "ftp_proxy = \"ftp://10.10.1.10:3128\"\n",
    "\n",
    "proxyDict = {\n",
    "    \"http\": http_proxy,\n",
    "    \"https\": https_proxy,\n",
    "    \"ftp\": ftp_proxy\n",
    "}\n",
    "\n",
    "\n",
    "page = requests.get(url, headers = headers)\n",
    "\n",
    "soup1 = BeautifulSoup(page.content, \"html.parser\")\n",
    "\n",
    "soup2 = BeautifulSoup(soup1.prettify(), \"html.parser\")\n",
    "\n",
    "#rint(soup2)\n",
    "\n",
    "title = soup2.find(class_ = \"b-advert-title-inner qa-advert-title b-advert-title-inner--h1\")\n",
    "\n",
    "print(title)\n",
    "\n",
    "\n",
    "price = soup2.find(class_ = 'qa-advert-price-view-title b-alt-advert-price__text')\n",
    "\n",
    "\n",
    "print(price)"
   ]
  },
  {
   "cell_type": "code",
   "execution_count": 17,
   "id": "abedf0a7",
   "metadata": {},
   "outputs": [],
   "source": [
    "#title = title.strip()[1:]\n",
    "\n",
    "#price = price.strip()\n",
    "\n",
    "#description = description().strip()\n",
    "\n",
    "#print(title)\n",
    "\n",
    "#print(price)\n",
    "\n",
    "#print(description)"
   ]
  },
  {
   "cell_type": "code",
   "execution_count": 4,
   "id": "d59335bc",
   "metadata": {},
   "outputs": [
    {
     "name": "stdout",
     "output_type": "stream",
     "text": [
      "2023-12-31\n"
     ]
    }
   ],
   "source": [
    "today = datetime.date.today()\n",
    "print(today)"
   ]
  },
  {
   "cell_type": "code",
   "execution_count": null,
   "id": "53bb718a",
   "metadata": {},
   "outputs": [],
   "source": [
    "header = [\"title\", \"price\", \"Date\", \"description\"]\n",
    "data = [title, price, today, description]\n",
    "\n",
    "with open('C:/Users/PC/Desktop/Python portfolio project/Wscrapper.csv','w', newline=\"\",encoding=\"UTF8\") as f:\n",
    "    writer = csv.writer(f)\n",
    "    writer.writerow(header)\n",
    "    writer.writerow(data)"
   ]
  },
  {
   "cell_type": "code",
   "execution_count": null,
   "id": "237b03ec",
   "metadata": {},
   "outputs": [],
   "source": [
    "df = pd.read_csv(\"C:/Users/PC/Desktop/Python portfolio project/Wscrapper.csv\")\n",
    "df"
   ]
  },
  {
   "cell_type": "code",
   "execution_count": null,
   "id": "54118915",
   "metadata": {},
   "outputs": [],
   "source": []
  },
  {
   "cell_type": "code",
   "execution_count": null,
   "id": "3e7b01e6",
   "metadata": {},
   "outputs": [],
   "source": [
    "with open('C:/Users/PC/Desktop/Python portfolio project/Wscrapper.csv','a+', newline=\"\",encoding=\"UTF8\") as f:\n",
    "    writer = csv.writer(f)\n",
    "    writer.writerow(data)"
   ]
  },
  {
   "cell_type": "code",
   "execution_count": null,
   "id": "12d145cb",
   "metadata": {},
   "outputs": [],
   "source": []
  },
  {
   "cell_type": "code",
   "execution_count": null,
   "id": "8b8a48c7",
   "metadata": {},
   "outputs": [],
   "source": []
  },
  {
   "cell_type": "code",
   "execution_count": null,
   "id": "893ac0ff",
   "metadata": {},
   "outputs": [],
   "source": []
  },
  {
   "cell_type": "code",
   "execution_count": null,
   "id": "fddbbd7b",
   "metadata": {},
   "outputs": [],
   "source": []
  },
  {
   "cell_type": "code",
   "execution_count": null,
   "id": "89fff007",
   "metadata": {},
   "outputs": [],
   "source": []
  },
  {
   "cell_type": "code",
   "execution_count": null,
   "id": "5099201b",
   "metadata": {},
   "outputs": [],
   "source": []
  },
  {
   "cell_type": "code",
   "execution_count": null,
   "id": "ebb09ded",
   "metadata": {},
   "outputs": [],
   "source": []
  },
  {
   "cell_type": "code",
   "execution_count": null,
   "id": "b63a16ca",
   "metadata": {},
   "outputs": [],
   "source": []
  },
  {
   "cell_type": "code",
   "execution_count": null,
   "id": "c3970bb3",
   "metadata": {},
   "outputs": [],
   "source": []
  },
  {
   "cell_type": "code",
   "execution_count": null,
   "id": "6ec5054c",
   "metadata": {},
   "outputs": [],
   "source": []
  },
  {
   "cell_type": "code",
   "execution_count": null,
   "id": "5f7021e9",
   "metadata": {},
   "outputs": [],
   "source": []
  },
  {
   "cell_type": "code",
   "execution_count": null,
   "id": "2383cfe0",
   "metadata": {},
   "outputs": [],
   "source": []
  },
  {
   "cell_type": "code",
   "execution_count": null,
   "id": "cf73e098",
   "metadata": {},
   "outputs": [],
   "source": []
  },
  {
   "cell_type": "code",
   "execution_count": null,
   "id": "8c8f0bae",
   "metadata": {},
   "outputs": [],
   "source": []
  },
  {
   "cell_type": "code",
   "execution_count": null,
   "id": "bc534f9d",
   "metadata": {},
   "outputs": [],
   "source": []
  },
  {
   "cell_type": "code",
   "execution_count": null,
   "id": "77d6b4b1",
   "metadata": {},
   "outputs": [],
   "source": []
  },
  {
   "cell_type": "code",
   "execution_count": null,
   "id": "ebf37fe1",
   "metadata": {},
   "outputs": [],
   "source": []
  },
  {
   "cell_type": "code",
   "execution_count": null,
   "id": "c4371553",
   "metadata": {},
   "outputs": [],
   "source": []
  },
  {
   "cell_type": "code",
   "execution_count": null,
   "id": "3836688d",
   "metadata": {},
   "outputs": [],
   "source": []
  },
  {
   "cell_type": "code",
   "execution_count": null,
   "id": "9179c9b2",
   "metadata": {},
   "outputs": [],
   "source": []
  },
  {
   "cell_type": "code",
   "execution_count": null,
   "id": "a05c8f40",
   "metadata": {},
   "outputs": [],
   "source": []
  },
  {
   "cell_type": "code",
   "execution_count": null,
   "id": "2b5afca7",
   "metadata": {},
   "outputs": [],
   "source": []
  }
 ],
 "metadata": {
  "kernelspec": {
   "display_name": "Python 3 (ipykernel)",
   "language": "python",
   "name": "python3"
  },
  "language_info": {
   "codemirror_mode": {
    "name": "ipython",
    "version": 3
   },
   "file_extension": ".py",
   "mimetype": "text/x-python",
   "name": "python",
   "nbconvert_exporter": "python",
   "pygments_lexer": "ipython3",
   "version": "3.10.9"
  }
 },
 "nbformat": 4,
 "nbformat_minor": 5
}
