{
 "cells": [
  {
   "cell_type": "markdown",
   "id": "1d3ff01e",
   "metadata": {},
   "source": [
    "# Simple BMI Calculator in Python"
   ]
  },
  {
   "cell_type": "code",
   "execution_count": 6,
   "id": "480a0203",
   "metadata": {},
   "outputs": [
    {
     "name": "stdout",
     "output_type": "stream",
     "text": [
      "Enter your nameAbdulganitu\n",
      "Enter Your Weight in Pounds: 170\n",
      "Enter Your height in Inches: 70\n",
      "Abdulganitu, You are normal weight...\n"
     ]
    }
   ],
   "source": [
    "name = input(\"Enter your name\")\n",
    "weight = int(input(\"Enter Your Weight in Pounds: \"))\n",
    "height = int(input(\"Enter Your height in Inches: \"))\n",
    "BMI = (weight * 703) / (height * height)\n",
    "if BMI > 0:\n",
    "    if(BMI < 18.5):\n",
    "        print(name + \", You are under weight...\")\n",
    "    elif(BMI <= 24.9):\n",
    "        print(name + \", You are normal weight...\")\n",
    "    elif(BMI < 29.9):\n",
    "        print(name + \", You are over weight...\")\n",
    "    elif(BMI < 34.9):\n",
    "        print(\"You are obese...\")\n",
    "    elif(BMI < 39.9):\n",
    "        print(name + \", You are severely obese...\")\n",
    "    else:\n",
    "        print(name + \", You are morbidly obese...\")\n",
    "else:\n",
    "    print(\"Enter Valid Input...\")"
   ]
  }
 ],
 "metadata": {
  "kernelspec": {
   "display_name": "Python 3 (ipykernel)",
   "language": "python",
   "name": "python3"
  },
  "language_info": {
   "codemirror_mode": {
    "name": "ipython",
    "version": 3
   },
   "file_extension": ".py",
   "mimetype": "text/x-python",
   "name": "python",
   "nbconvert_exporter": "python",
   "pygments_lexer": "ipython3",
   "version": "3.10.9"
  }
 },
 "nbformat": 4,
 "nbformat_minor": 5
}
